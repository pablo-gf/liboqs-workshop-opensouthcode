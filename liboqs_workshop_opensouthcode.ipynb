{
 "cells": [
  {
   "cell_type": "markdown",
   "metadata": {
    "id": "boDoXYqZOjqV"
   },
   "source": [
    "# Setup"
   ]
  },
  {
   "cell_type": "markdown",
   "metadata": {
    "id": "e-H-bfNF7Fhj"
   },
   "source": [
    "We will be using two repositories:\n",
    "\n",
    "\n",
    "*   The actual liboqs C-based library: https://github.com/open-quantum-safe/liboqs\n",
    "*   The Python wrapper for that library: https://github.com/open-quantum-safe/liboqs-python\n",
    "\n"
   ]
  },
  {
   "cell_type": "markdown",
   "metadata": {
    "id": "MSsRvxgqXUTW"
   },
   "source": [
    "A wrapper is a piece of code that provides an interface between two different systems or components, in this case liboqs (written in C) and Python.The liboqs-python wrapper is the code written in Python that \"wraps around\" the C library. Its purpose is to:\n",
    "\n",
    "*   Translate: It translates calls from Python code into the format that the C library understands.\n",
    "*   Simplify: It often simplifies the interface of the C library, making it easier to use from Python.\n",
    "*   Handle Data Types: It manages the conversion of data types between Python and C.\n",
    "*   Load the Library: It handles loading the shared C library into memory so that Python can access its functions."
   ]
  },
  {
   "cell_type": "code",
   "execution_count": null,
   "metadata": {
    "colab": {
     "base_uri": "https://localhost:8080/"
    },
    "id": "EZVO7EILVqt5",
    "outputId": "038e0f13-a0d2-4898-8eaf-edc19e8fc8b6"
   },
   "outputs": [],
   "source": [
    "# Install the necessary dependencies\n",
    "!apt-get update\n",
    "!apt-get install -y cmake build-essential git"
   ]
  },
  {
   "cell_type": "markdown",
   "metadata": {
    "id": "E_TQKbm50k9_"
   },
   "source": [
    "For the wrapper to work correctly, it is required to save the compiled files in the `/root/_oqs` directory, so set the parameter `-DCMAKE_INSTALL_PREFIX=\"/root/_oqs\"`."
   ]
  },
  {
   "cell_type": "code",
   "execution_count": null,
   "metadata": {
    "colab": {
     "base_uri": "https://localhost:8080/"
    },
    "id": "VUkGE2uEVn-E",
    "outputId": "a5dccaef-1b99-411f-c3d8-edffa52b2633"
   },
   "outputs": [],
   "source": [
    "# Configure, build, and install liboqs, per https://github.com/open-quantum-safe/liboqs-python\n",
    "!git clone https://github.com/open-quantum-safe/liboqs.git # creting liboqs directory in /content\n",
    "!cmake -S liboqs -B liboqs/build -DCMAKE_INSTALL_PREFIX=\"/root/_oqs\" -DBUILD_SHARED_LIBS=ON # save the compiled files in /root/_oqs\n",
    "!cmake --build liboqs/build --parallel 8\n",
    "!sudo cmake --build liboqs/build --target install"
   ]
  },
  {
   "cell_type": "code",
   "execution_count": null,
   "metadata": {
    "colab": {
     "base_uri": "https://localhost:8080/"
    },
    "id": "JwJXneDSRai4",
    "outputId": "a8f09f0a-3335-4228-e1c5-eb5ee6765e8d"
   },
   "outputs": [],
   "source": [
    "# Install the liboqs python wrapper\n",
    "!git clone --depth=1 https://github.com/open-quantum-safe/liboqs-python # creting liboqs directory in /content\n",
    "%cd liboqs-python\n",
    "!pip install ."
   ]
  },
  {
   "cell_type": "code",
   "execution_count": null,
   "metadata": {
    "colab": {
     "base_uri": "https://localhost:8080/"
    },
    "id": "VoHlVrI-TS0H",
    "outputId": "eda5026e-4edf-4020-f5e5-8aff8343c468"
   },
   "outputs": [],
   "source": [
    "import oqs"
   ]
  },
  {
   "cell_type": "code",
   "execution_count": null,
   "metadata": {
    "colab": {
     "base_uri": "https://localhost:8080/"
    },
    "id": "pm2DydzU-A_8",
    "outputId": "ed5dd39a-d161-472f-81c3-5aaa211e5068"
   },
   "outputs": [],
   "source": [
    "# Get the supported KEM algorithms\n",
    "oqs.get_enabled_kem_mechanisms()"
   ]
  },
  {
   "cell_type": "code",
   "execution_count": null,
   "metadata": {
    "colab": {
     "base_uri": "https://localhost:8080/"
    },
    "id": "6b_KaeF6-JMz",
    "outputId": "d944b5d2-2d31-4b7a-e164-67b9ebd55973"
   },
   "outputs": [],
   "source": [
    "# Get the supported signature algorithms\n",
    "oqs.get_enabled_sig_mechanisms()"
   ]
  },
  {
   "cell_type": "markdown",
   "metadata": {
    "id": "SGGvh3apUuKa"
   },
   "source": [
    "# KEMs and Signatures in liboqs"
   ]
  },
  {
   "cell_type": "markdown",
   "metadata": {
    "id": "V8IXx8IiUzbi"
   },
   "source": [
    "## KEMs"
   ]
  },
  {
   "cell_type": "code",
   "execution_count": null,
   "metadata": {
    "colab": {
     "base_uri": "https://localhost:8080/"
    },
    "id": "M63UkwEwU1Sv",
    "outputId": "c85e9cc1-de05-41e0-a548-89059f6a4702"
   },
   "outputs": [],
   "source": [
    "# Alice creates an instance of the algorithm used as KEM\n",
    "# This instance contains all the parameters and function pointers for the algorithm to function\n",
    "alice_kem = oqs.KeyEncapsulation(\"FrodoKEM-640-AES\")\n",
    "\n",
    "# Generate the KEM keypair\n",
    "alice_public_key_kem = alice_kem.generate_keypair()\n",
    "print(f\"Alice's KEM public key {alice_public_key_kem.hex()}\")\n",
    "print(f\"Size: {len(alice_public_key_kem)} bytes\")\n",
    "\n",
    "print(\"--------------------\")\n",
    "\n",
    "# Retrieve the KEM private key\n",
    "private_key_kem = alice_kem.export_secret_key()\n",
    "print(f\"Alice's KEM private key: {private_key_kem.hex()}\")\n",
    "print(f\"Size: {len(private_key_kem)} bytes\")\n",
    "\n",
    "# It is possible to reconstruct a session using your private key when creating an instance\n",
    "kem_later = oqs.KeyEncapsulation(\"FrodoKEM-640-AES\", private_key_kem)"
   ]
  },
  {
   "cell_type": "code",
   "execution_count": null,
   "metadata": {
    "colab": {
     "base_uri": "https://localhost:8080/"
    },
    "id": "67NzMUIwU13v",
    "outputId": "0cddc57a-3a8d-4a51-8c4b-24b6a148a261"
   },
   "outputs": [],
   "source": [
    "# Bob encapsulates the symmetric key using Alice's KEM public key\n",
    "# The output of this function is a randomly generated symmetric key (symmetric_key_bob) and its ciphertext version (ciphertext)\n",
    "bob_kem = oqs.KeyEncapsulation(\"FrodoKEM-640-AES\")\n",
    "ciphertext, symmetric_key_bob = bob_kem.encap_secret(alice_public_key_kem)\n",
    "\n",
    "print(f\"Symmetric key: {symmetric_key_bob.hex()}\")\n",
    "print(f\"Size: {len(symmetric_key_bob)}\")\n",
    "\n",
    "print(\"--------------------\")\n",
    "\n",
    "print(f\"ciphertext: {ciphertext.hex()}\")\n",
    "print(f\"Size: {len(ciphertext)}\")"
   ]
  },
  {
   "cell_type": "code",
   "execution_count": null,
   "metadata": {
    "colab": {
     "base_uri": "https://localhost:8080/"
    },
    "id": "W8APsSLjU17U",
    "outputId": "6a568e53-9428-48b8-e5cf-aee2c2583396"
   },
   "outputs": [],
   "source": [
    "# Alice decapsulates the ciphertext to obtain the shared secret\n",
    "symmetric_key_alice = alice_kem.decap_secret(ciphertext)\n",
    "\n",
    "print(f\"Symmetric key: {symmetric_key_alice.hex()}\")\n",
    "print(f\"Size: {len(symmetric_key_alice)}\")"
   ]
  },
  {
   "cell_type": "code",
   "execution_count": null,
   "metadata": {
    "colab": {
     "base_uri": "https://localhost:8080/"
    },
    "id": "AQGhhxKXU2AT",
    "outputId": "4aa93c25-47a4-4dce-c634-5e69e324d3bc"
   },
   "outputs": [],
   "source": [
    "# Verify that the secret keys match\n",
    "if symmetric_key_alice == symmetric_key_bob:\n",
    "  print(\"Symmetric keys match! Use it for symmetric encryption.\")\n",
    "else:\n",
    "  print(\"Symmetric keys did not match...try again.\")"
   ]
  },
  {
   "cell_type": "markdown",
   "metadata": {
    "id": "Y5LaGsu4Z5hY"
   },
   "source": [
    "Your are going to creaagree on a shared secret with a colleague to exchange encrypted messages using the quantum resitant algorithm BIKE-L1, which is available in liboqs. To do so, follow the next steps:\n",
    "\n",
    "- Person A will generate a public key and post it in an entry [here](https://padlet.com/pablogf/hands-on-pqc-at-opensouthcode-4957mbhgd0u8486m).\n",
    "- Person B will encapsulate a key for Person A using their public key.\n",
    "  - *Tip: All functions work with bytes. When copying the public key from the dashboard into the colab, make sure to use `bytes.fromhex()`.*\n",
    "- Person A will decapsulate it, and use it to encrypt a message of your choice using AES-256 CBC mode in [cryptii.com](https://cryptii.com/) (make sure to leave the IV section as it is).\n",
    "- Person A will post the encrypted message in the comments of that same entry.\n",
    "- Person B will have to decrypt it using the same tool and configuration. Post the resulting plaintext in the dashbaord to verify it is correct!\n",
    "\n",
    "Now you have a key to communicate with!"
   ]
  },
  {
   "cell_type": "markdown",
   "metadata": {
    "id": "QNr6rMbXaTfa"
   },
   "source": [
    "Use the cell below to perform the role of Alice:"
   ]
  },
  {
   "cell_type": "code",
   "execution_count": null,
   "metadata": {
    "id": "QHnAxmhzU2Gu"
   },
   "outputs": [],
   "source": [
    "# Create an instance of the algorithm used as KEM\n",
    "\n",
    "# Generate a KEM keypair\n"
   ]
  },
  {
   "cell_type": "code",
   "execution_count": null,
   "metadata": {
    "id": "4gGAan1Hb6vG"
   },
   "outputs": [],
   "source": [
    "# Decapsulate\n"
   ]
  },
  {
   "cell_type": "markdown",
   "metadata": {
    "id": "KGTU8ZeFb9zd"
   },
   "source": [
    "Use the cell below to perform the role of Bob:\n",
    "\n"
   ]
  },
  {
   "cell_type": "code",
   "execution_count": null,
   "metadata": {
    "id": "snXh22kNb-d-"
   },
   "outputs": [],
   "source": [
    "# Encapsulate\n"
   ]
  },
  {
   "cell_type": "markdown",
   "metadata": {
    "id": "_q1CJIfCU3H4"
   },
   "source": [
    "## Digital Signatures"
   ]
  },
  {
   "cell_type": "code",
   "execution_count": null,
   "metadata": {
    "colab": {
     "base_uri": "https://localhost:8080/"
    },
    "id": "cP0kOUqTU7BQ",
    "outputId": "f5dd007c-4fff-4c5a-f738-bafa6a85043c"
   },
   "outputs": [],
   "source": [
    "# Alice creates an instance of the algorithm used for signing\n",
    "alice_sig = oqs.Signature(\"SPHINCS+-SHA2-128f-simple\")\n",
    "\n",
    "# Alice generates a signature keypair\n",
    "alice_public_key_sig = alice_sig.generate_keypair()\n",
    "print(f\"Signature public key: {alice_public_key_sig.hex()}\")\n",
    "print(f\"Size: {len(alice_public_key_sig)} bytes\")\n",
    "\n",
    "print(\"--------------------\")\n",
    "\n",
    "# Alice retrives the signature private key\n",
    "private_key_sig = alice_sig.export_secret_key()\n",
    "print(f\"Signature private key: {private_key_sig.hex()}\")\n",
    "print(f\"Size: {len(private_key_sig)} bytes\")"
   ]
  },
  {
   "cell_type": "code",
   "execution_count": null,
   "metadata": {
    "colab": {
     "base_uri": "https://localhost:8080/"
    },
    "id": "hSEeUCCTU7Fw",
    "outputId": "0b653e87-dc50-4495-f235-31496454fd2b"
   },
   "outputs": [],
   "source": [
    "# Sign the message\n",
    "input_string = \"test\"\n",
    "signature = alice_sig.sign(input_string.encode(\"utf-8\"))\n",
    "print(f\"Signature: {signature.hex()}\")\n",
    "print(f\"Size: {len(signature)} bytes\")"
   ]
  },
  {
   "cell_type": "code",
   "execution_count": null,
   "metadata": {
    "colab": {
     "base_uri": "https://localhost:8080/"
    },
    "id": "-RnIYhrEU7L5",
    "outputId": "825a853e-4b0b-4f1d-b0ca-d36cace7e629"
   },
   "outputs": [],
   "source": [
    "# Bob creates an instance of the algorithm the message was signed with\n",
    "bob_sig = oqs.Signature(\"SPHINCS+-SHA2-128f-simple\")\n",
    "\n",
    "# Bob verifies the signature\n",
    "is_valid = bob_sig.verify(input_string.encode(\"utf-8\"), signature, alice_public_key_sig)\n",
    "print(f\"Is the signature valid? {is_valid}\")"
   ]
  },
  {
   "cell_type": "markdown",
   "metadata": {
    "id": "b8o6kfyMXmxT"
   },
   "source": [
    "### Your turn!"
   ]
  },
  {
   "cell_type": "markdown",
   "metadata": {
    "id": "GDzrUONZO0Yp"
   },
   "source": [
    "You are going to create a quantum-resitant signature using the soon-to-be-standardized Falcon-1024 algorithm. Follow the next steps:\n",
    "\n",
    "- Person A will generate a public key, come up with any message they want, and sign it.\n",
    "- Person A will then create an entry [here](https://padlet.com/pablogf/hands-on-pqc-at-opensouthcode-4957mbhgd0u8486m) containing the signature, the message being signed, and their public key.\n",
    "  - Besides this, make sure to post several different tweaked versions of the signature by altering a character of the signature. This way, the verifier will have to find which of the signatures is the correct one.\n",
    "- Person B will verify the signatures posted, and will respond in a comment to the entry stating which one is the valid signature.\n",
    "  - *Tip: Remember that all variables must be worked with in bytes. Use `bytes.fromhex()` when pasting the public key and the signature from the dashboard into the notebook. For the input string make sure to use `.decode(\"utf-8\").`*"
   ]
  },
  {
   "cell_type": "markdown",
   "metadata": {
    "id": "0fOkj_fe507J"
   },
   "source": [
    "Use the cell below to perform the role of Alice:"
   ]
  },
  {
   "cell_type": "code",
   "execution_count": null,
   "metadata": {
    "id": "5RpANvx0Xu77"
   },
   "outputs": [],
   "source": [
    "# Create an instance of the algorithm used for signing\n",
    "\n",
    "# Generate a signature keypair\n",
    "\n",
    "# Sign the message\n"
   ]
  },
  {
   "cell_type": "markdown",
   "metadata": {
    "id": "IE-JdIA3X2xR"
   },
   "source": [
    "Use the cell below to perform the role of Bob:"
   ]
  },
  {
   "cell_type": "code",
   "execution_count": null,
   "metadata": {
    "id": "sM7wKsjYX6CY"
   },
   "outputs": [],
   "source": [
    "# Verify the signature\n"
   ]
  },
  {
   "cell_type": "markdown",
   "metadata": {
    "id": "f4R1LZFIjuVH"
   },
   "source": [
    "# PQC protocol using ML-KEM and ML-DSA"
   ]
  },
  {
   "cell_type": "markdown",
   "metadata": {
    "id": "cutNeRUW6ELa"
   },
   "source": [
    "You are now ready to program an authenticated quantum-secure communication protocol using liboqs! Let's do it using the algorithms standardized by NIST: ML-KEM-512 as the key encapsulation mechanism and ML-DSA-44 as digital signature."
   ]
  },
  {
   "cell_type": "markdown",
   "metadata": {
    "id": "9afdou1blKRp"
   },
   "source": [
    "## On Alice's end..."
   ]
  },
  {
   "cell_type": "markdown",
   "metadata": {
    "id": "W1tC-sL5kqob"
   },
   "source": [
    "Alice generates keys for KEM:"
   ]
  },
  {
   "cell_type": "code",
   "execution_count": null,
   "metadata": {
    "colab": {
     "base_uri": "https://localhost:8080/"
    },
    "id": "aig63s6lYNr5",
    "outputId": "a0321a4b-8612-4e72-8127-9ae79eb0cdb8"
   },
   "outputs": [],
   "source": [
    "# Create an instance of the algorithm used as KEM\n",
    "# This isntance contains all the parameters and function pointers for the algorithm to function\n",
    "alice_kem = oqs.KeyEncapsulation(\"ML-KEM-512\")\n",
    "\n",
    "# Alice generates the KEM keypair\n",
    "alice_kem_PK = alice_kem.generate_keypair()\n",
    "print(f\"Alice's KEM public key {alice_kem_PK.hex()}\")\n",
    "print(f\"Size: {len(alice_kem_PK)} bytes\")\n",
    "\n",
    "print(\"--------------------\")\n",
    "\n",
    "# Retrieve the KEM private key\n",
    "alice_kem_pk = alice_kem.export_secret_key()\n",
    "print(f\"Alice's KEM private key: {alice_kem_pk.hex()}\")\n",
    "print(f\"Size: {len(alice_kem_pk)} bytes\")"
   ]
  },
  {
   "cell_type": "markdown",
   "metadata": {
    "id": "dIR9WC-bkzRr"
   },
   "source": [
    "Alice generates keys for authentication:"
   ]
  },
  {
   "cell_type": "code",
   "execution_count": null,
   "metadata": {
    "colab": {
     "base_uri": "https://localhost:8080/"
    },
    "id": "TV1tF8kyZ9Th",
    "outputId": "e989dbb5-d71f-4129-8aaa-9e668be4d4d8"
   },
   "outputs": [],
   "source": [
    "# Create an instance of the algorithm used for signing\n",
    "alice_sig = oqs.Signature(\"ML-DSA-44\")\n",
    "\n",
    "# Alice generates a signature keypair\n",
    "alice_sig_PK = alice_sig.generate_keypair()\n",
    "print(f\"Alice's signature public key: {alice_sig_PK.hex()}\")\n",
    "print(f\"Size: {len(alice_sig_PK)} bytes\")\n",
    "\n",
    "print(\"--------------------\")\n",
    "\n",
    "# Retrive the signature private key\n",
    "alice_sig_pk = alice_sig.export_secret_key()\n",
    "print(f\"Alice's signature private key: {alice_sig_pk.hex()}\")\n",
    "print(f\"Size: {len(alice_sig_pk)} bytes\")"
   ]
  },
  {
   "cell_type": "markdown",
   "metadata": {
    "id": "ux19VRnglAis"
   },
   "source": [
    "Alice signs her public key to authenticate it:"
   ]
  },
  {
   "cell_type": "code",
   "execution_count": null,
   "metadata": {
    "colab": {
     "base_uri": "https://localhost:8080/"
    },
    "id": "QgKYRsY4aAbz",
    "outputId": "6ecd638e-9c26-4c88-e1c1-2ad5816b3c1c"
   },
   "outputs": [],
   "source": [
    "# Alice signs her KEM public key for authentication and sends it to Bob\n",
    "signature_alice = alice_sig.sign(alice_kem_PK)\n",
    "print(f\"Alice's signature of her public key: {signature_alice.hex()}\")\n",
    "print(f\"Size: {len(signature_alice)}\")"
   ]
  },
  {
   "cell_type": "markdown",
   "metadata": {
    "id": "xvqDGs-QlYJS"
   },
   "source": [
    "## On Bob's end..."
   ]
  },
  {
   "cell_type": "markdown",
   "metadata": {
    "id": "ySnnTzFykjX0"
   },
   "source": [
    "Bob verifies Alice's signature:"
   ]
  },
  {
   "cell_type": "code",
   "execution_count": null,
   "metadata": {
    "colab": {
     "base_uri": "https://localhost:8080/"
    },
    "id": "D__IZ6O_aMt4",
    "outputId": "0c718361-b31b-4013-d161-42aa4a7b4e20"
   },
   "outputs": [],
   "source": [
    "# Create an instance of the algorithm that was used for the signature\n",
    "bob_sig = oqs.Signature(\"ML-DSA-44\")\n",
    "\n",
    "# Bob verifies Alice's signature\n",
    "is_alice_real = bob_sig.verify(alice_kem_PK, signature_alice, alice_sig_PK)\n",
    "print(f\"Is Alice who she claims to be? {is_alice_real}\")"
   ]
  },
  {
   "cell_type": "markdown",
   "metadata": {
    "id": "25mDzwBrmax-"
   },
   "source": [
    "Then, he moves on to encapsulate a symmetric key:"
   ]
  },
  {
   "cell_type": "code",
   "execution_count": null,
   "metadata": {
    "colab": {
     "base_uri": "https://localhost:8080/"
    },
    "id": "CmfWhJPPeBuf",
    "outputId": "901a6e38-7cc6-4233-83ca-675fd5f1badf"
   },
   "outputs": [],
   "source": [
    "# Bob encapsulates the symmetric key using Alice's KEM public key\n",
    "# The output of this function is: a randomly generated symmetric key (symmetric_key) and its ciphertext version (ciphertext)\n",
    "bob_kem = oqs.KeyEncapsulation(\"ML-KEM-512\")\n",
    "ciphertext, symmetric_key_bob = bob_kem.encap_secret(alice_kem_PK)\n",
    "\n",
    "print(f\"Symmetric key: {symmetric_key_bob.hex()}\")\n",
    "print(f\"Size: {len(symmetric_key_bob)}\")\n",
    "\n",
    "print(\"--------------------\")\n",
    "\n",
    "print(f\"ciphertext: {ciphertext.hex()}\")\n",
    "print(f\"Size: {len(ciphertext)}\")"
   ]
  },
  {
   "cell_type": "markdown",
   "metadata": {
    "id": "x_1cua-PeH7r"
   },
   "source": [
    "Now he creates a signature of the ciphertext to prove authenticity of the message sent:"
   ]
  },
  {
   "cell_type": "code",
   "execution_count": null,
   "metadata": {
    "colab": {
     "base_uri": "https://localhost:8080/"
    },
    "id": "W_VqdjvleGQ8",
    "outputId": "2b61f5b6-5366-4760-f755-3f276cbed575"
   },
   "outputs": [],
   "source": [
    "# Create an instance of the algorithm used for signing\n",
    "#bob_sig = oqs.Signature(\"ML-DSA-44\")\n",
    "\n",
    "# Bob generates a signature keypair\n",
    "bob_sig_PK = bob_sig.generate_keypair()\n",
    "print(f\"Bob's signature public key: {bob_sig_PK.hex()}\")\n",
    "print(f\"Size: {len(bob_sig_PK)} bytes\")\n",
    "\n",
    "print(\"--------------------\")\n",
    "\n",
    "# Retrive the signature private key\n",
    "bob_sig_pk = bob_sig.export_secret_key()\n",
    "print(f\"Bob's signature private key: {bob_sig_pk.hex()}\")\n",
    "print(f\"Size: {len(bob_sig_pk)} bytes\")"
   ]
  },
  {
   "cell_type": "code",
   "execution_count": null,
   "metadata": {
    "colab": {
     "base_uri": "https://localhost:8080/"
    },
    "id": "_5Hrj6e9eBxn",
    "outputId": "7b4907a6-c98f-4f22-aa10-9d59fa5566b3"
   },
   "outputs": [],
   "source": [
    "# Bob signs the ciphertext for authentication and sends it to Alice\n",
    "signature_bob = bob_sig.sign(ciphertext)\n",
    "print(f\"Bob's signature of the ciphertext: {signature_bob.hex()}\")\n",
    "print(f\"Size: {len(signature_bob)}\")"
   ]
  },
  {
   "cell_type": "markdown",
   "metadata": {
    "id": "hXiNi4QqekP8"
   },
   "source": [
    "## Back to Alice..."
   ]
  },
  {
   "cell_type": "markdown",
   "metadata": {
    "id": "0ymTu6pRkQha"
   },
   "source": [
    "Alice verifies the authenticity of Bob's message:"
   ]
  },
  {
   "cell_type": "code",
   "execution_count": null,
   "metadata": {
    "colab": {
     "base_uri": "https://localhost:8080/"
    },
    "id": "aNtVFxDrd0aW",
    "outputId": "408b4ab3-abb6-44c1-bba7-44fce244ffa5"
   },
   "outputs": [],
   "source": [
    "is_bob_real = alice_sig.verify(ciphertext, signature_bob, bob_sig_PK)\n",
    "print(f\"Is Bob who he claims to be? {is_bob_real}\")"
   ]
  },
  {
   "cell_type": "markdown",
   "metadata": {
    "id": "da3HMBMXkYJf"
   },
   "source": [
    "Then she decapsulates the symmetric key:"
   ]
  },
  {
   "cell_type": "code",
   "execution_count": null,
   "metadata": {
    "colab": {
     "base_uri": "https://localhost:8080/"
    },
    "id": "m_ubHAQYeUHF",
    "outputId": "8f41dfaf-1fdc-452a-b535-26ac6d822486"
   },
   "outputs": [],
   "source": [
    "symmetric_key_alice = alice_kem.decap_secret(ciphertext)\n",
    "\n",
    "print(f\"Symmetric key: {symmetric_key_alice.hex()}\")\n",
    "print(f\"Size: {len(symmetric_key_alice)}\")"
   ]
  },
  {
   "cell_type": "code",
   "execution_count": null,
   "metadata": {
    "colab": {
     "base_uri": "https://localhost:8080/"
    },
    "id": "34JgEbGgfDxx",
    "outputId": "4cbaaaad-6df1-4012-c816-ea1b0367b1e7"
   },
   "outputs": [],
   "source": [
    "# Verify that the secret keys match\n",
    "if symmetric_key_alice == symmetric_key_bob:\n",
    "  print(\"Symmetric keys match! Use it for symmetric encryption.\")\n",
    "else:\n",
    "  print(\"Symmetric keys did not match...try again.\")"
   ]
  },
  {
   "cell_type": "markdown",
   "metadata": {
    "id": "KVJGycvBknaj"
   },
   "source": [
    "Now Alice can use that symmetric key with a symmetric cipher like AES to start to securely communicate with Bob:"
   ]
  },
  {
   "cell_type": "code",
   "execution_count": null,
   "metadata": {
    "colab": {
     "base_uri": "https://localhost:8080/"
    },
    "id": "btdY-K-dfIzA",
    "outputId": "bb0f24c3-a0db-4b3d-82cc-3e3285f553e9"
   },
   "outputs": [],
   "source": [
    "# Install pycryptodome for symmetric encryption with AES\n",
    "!pip install pycryptodome"
   ]
  },
  {
   "cell_type": "code",
   "execution_count": null,
   "metadata": {
    "colab": {
     "base_uri": "https://localhost:8080/"
    },
    "id": "Z_ouae_fZzOy",
    "outputId": "04746d87-321b-4ca9-86a5-609cb0d0577d"
   },
   "outputs": [],
   "source": [
    "# Retrieve message from the user\n",
    "\n",
    "from Crypto.Cipher import AES\n",
    "from Crypto.Util.Padding import pad\n",
    "from Crypto.Random import get_random_bytes\n",
    "\n",
    "message = input(\"Type a message: \")\n",
    "\n",
    "# Generate a random initialization vector (IV)\n",
    "iv = get_random_bytes(16)\n",
    "\n",
    "# Create the cipher object\n",
    "cipher = AES.new(symmetric_key_alice, AES.MODE_CBC, iv)\n",
    "\n",
    "# Pad the message to AES block size (16 bytes) and encrypt\n",
    "padded_data = pad(message.encode('utf-8'), AES.block_size)\n",
    "ciphertext = cipher.encrypt(padded_data)\n",
    "\n",
    "# Combine IV and ciphertext (IV is needed for decryption)\n",
    "encrypted_data = iv + ciphertext\n",
    "\n",
    "print(\"Message to encrypt: \", encrypted_data.hex())"
   ]
  },
  {
   "cell_type": "markdown",
   "metadata": {
    "id": "LSQyVA7vL270"
   },
   "source": [
    "## Back to Bob..."
   ]
  },
  {
   "cell_type": "markdown",
   "metadata": {
    "id": "LssNSbmfL66p"
   },
   "source": [
    "Bob decrypts the cipehertext from Alice with the shared secret acquired during the key encapsualtion process:"
   ]
  },
  {
   "cell_type": "code",
   "execution_count": null,
   "metadata": {
    "colab": {
     "base_uri": "https://localhost:8080/"
    },
    "id": "7DZ9n43GMJVo",
    "outputId": "b1b893dc-3e05-4bff-b642-1696bb2781f2"
   },
   "outputs": [],
   "source": [
    "from Crypto.Util.Padding import unpad\n",
    "\n",
    "ciphertext_hex = input(\"Ciphertext to decrypt: \")\n",
    "\n",
    "# Change ciphertext from base64 to bytes\n",
    "encrypted_data = bytes.fromhex(ciphertext_hex)\n",
    "\n",
    "# Split IV and ciphertext\n",
    "iv = encrypted_data[:16]\n",
    "ciphertext = encrypted_data[16:]\n",
    "\n",
    "# Decrypt\n",
    "cipher = AES.new(symmetric_key_alice, AES.MODE_CBC, iv)\n",
    "decrypted_padded = cipher.decrypt(ciphertext)\n",
    "\n",
    "# Remove padding\n",
    "plaintext = unpad(decrypted_padded, AES.block_size)\n",
    "\n",
    "print(\"Decrypted message:\", plaintext.decode('utf-8'))"
   ]
  }
 ],
 "metadata": {
  "colab": {
   "provenance": []
  },
  "kernelspec": {
   "display_name": "Python 3",
   "name": "python3"
  },
  "language_info": {
   "name": "python"
  }
 },
 "nbformat": 4,
 "nbformat_minor": 0
}
